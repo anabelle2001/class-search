{
 "cells": [
  {
   "cell_type": "code",
   "execution_count": 1,
   "id": "b2b5aff6-e720-41e0-826b-7d893615c8c6",
   "metadata": {},
   "outputs": [],
   "source": [
    "import json\n",
    "f = open('./fall23.json')\n",
    "data = json.load(f)"
   ]
  },
  {
   "cell_type": "code",
   "execution_count": 2,
   "id": "c4263f32-5e47-4d5d-b46b-f742698e26b2",
   "metadata": {},
   "outputs": [],
   "source": [
    "import statistics\n",
    "import textwrap\n",
    "from collections import Counter\n",
    "import matplotlib.pyplot as plt\n",
    "\n",
    "def plotStats(sections):\n",
    "    availibleSeats = [course[\"seatsAvailable\"] for course in sections]\n",
    "    deWaitlisted = [0 if seatCount < 0 else seatCount for seatCount in availibleSeats]\n",
    "    seatCounter = Counter(deWaitlisted)\n",
    "    plt.bar(seatCounter.keys(), seatCounter.values())\n",
    "\n",
    "def printStats(sections):\n",
    "    availibleSeats = [course[\"seatsAvailable\"] for course in sections]\n",
    "    deWaitlisted = [0 if seatCount < 0 else seatCount for seatCount in availibleSeats]\n",
    "    counted = Counter(deWaitlisted)\n",
    "\n",
    "    numSections = len(sections)\n",
    "    numFullSections = counted[0]\n",
    "    numSectionsWithOneSeat = counted[1]\n",
    "    numSectionsWithTwoOrMore = numSections-numFullSections-numSectionsWithOneSeat\n",
    "    \n",
    "    print(textwrap.dedent(f\"\"\"  \n",
    "        Total sections: {len(sections)}\n",
    "        \\tFull Sections:             {numFullSections}\\t({int(numFullSections/numSections*100)}%)\n",
    "        \\tSections w/ 1 free seat:   {numSectionsWithOneSeat}\\t({int(numSectionsWithOneSeat/numSections*100)}%)\n",
    "        \\tRemaining sections:        {numSectionsWithTwoOrMore}\\t({int(numSectionsWithTwoOrMore/numSections*100)}%)\n",
    "    \n",
    "        On average, how many free seats does each section have?\n",
    "        \\tMean:\\t{statistics.mean(deWaitlisted)}\n",
    "        \\tMedian:\\t{statistics.median(deWaitlisted)}\n",
    "        \\tMode:\\t{statistics.mode(deWaitlisted)}\n",
    "    \"\"\"))\n",
    "\n",
    "    "
   ]
  },
  {
   "cell_type": "code",
   "execution_count": 3,
   "id": "4a0301fe-f8e2-425c-9c9c-5aefb25a2593",
   "metadata": {},
   "outputs": [
    {
     "name": "stdout",
     "output_type": "stream",
     "text": [
      "\n",
      "Total sections: 3040\n",
      "\tFull Sections:             1930\t(63%)\n",
      "\tSections w/ 1 free seat:   214\t(7%)\n",
      "\tRemaining sections:        896\t(29%)\n",
      "\n",
      "On average, how many free seats does each section have?\n",
      "\tMean:\t2.5101973684210526\n",
      "\tMedian:\t0.0\n",
      "\tMode:\t0\n",
      "\n"
     ]
    }
   ],
   "source": [
    "printStats(data)"
   ]
  },
  {
   "cell_type": "code",
   "execution_count": 4,
   "id": "32380942-3ff7-4028-843b-d15126b7b02b",
   "metadata": {},
   "outputs": [
    {
     "data": {
      "image/png": "[encoded data removed]",
      "text/plain": [
       "<Figure size 640x480 with 1 Axes>"
      ]
     },
     "metadata": {},
     "output_type": "display_data"
    }
   ],
   "source": [
    "plotStats(data)"
   ]
  },
  {
   "cell_type": "code",
   "execution_count": 17,
   "id": "0c45b1e0-0cc3-48a5-aa5b-4f03eba9d1a3",
   "metadata": {},
   "outputs": [],
   "source": [
    "hum = {\n",
    "    \"AAST\":{\"200\", \"315\"},\n",
    "    \"AFST\":{\"101\", \"202\"},\n",
    "    \"ARST\":{\"100\", \"240\", \"273\", \"340\"},\n",
    "    \"ARTH\":{\"101\", \"102\", \"103\", \"104\", \"105\", \"190\", \"210\", \"212\", \"213\", \"214\", \"215\", \"222\", \"225\", \"231\", \"241\", \"242\", \"243\", \"250\", \"254\", \"260\", \"261\", \"263\", \"265\", \"275\", \"277\", \"278\", \"280\", \"285\", \"287\", \"290\", \"294\"},\n",
    "    \"ARTM\":{\"225\"},\n",
    "    \"ASST\":{\"101\"},\n",
    "    \"CHST\":{\"100\", \"240\", \"270\", \"340\"},\n",
    "    \"CLAS\":{\"101\", \"102\", \"103\", \"104\", \"200\", \"203\", \"215\", \"223\", \"225\", \"226\", \"242\", \"253\", \"254\", \"255\", \"256\", \"270\", \"303\", \"320\", \"322\", \"324\", \"343\", \"345\", \"356\"},\n",
    "    \"DANC\":{\"150\", \"290\", \"330\", \"331\"},\n",
    "    \"DCSP\":{\"350\"},\n",
    "    \"EDFS\":{\"201\"},\n",
    "    \"ENGL\":{\"190\", \"191\", \"192\", \"195\", \"201\", \"202\", \"207\", \"212\", \"216\", \"226\", \"233\", \"234\", \"241\", \"290\", \"300\", \"302\", \"304\", \"306\", \"313\", \"314\", \"315\", \"317\", \"318\", \"319\", \"320\", \"321\", \"323\", \"325\", \"326\", \"327\", \"328\", \"335\", \"336\", \"337\", \"339\", \"340\", \"341\", \"342\", \"343\", \"344\", \"345\", \"346\", \"349\", \"351\", \"352\", \"353\", \"356\", \"357\", \"358\", \"359\", \"360\", \"361\", \"362\", \"363\", \"364\", \"370\", \"371\", \"375\", \"390\"},\n",
    "    \"ENVT\":{\"210\"},\n",
    "    \"FRCS\":{\"101\", \"102\"},\n",
    "    \"FREN\":{\"334\", \"335\", \"336\", \"337\"},\n",
    "    \"GEOG\":{\"219\", \"290\"},\n",
    "    \"GRMN\":{\"325\", \"326\", \"329\", \"365\", \"390\", \"468\", \"472\", \"490\"},\n",
    "    \"GRST\":{\"122\", \"200\", \"221\", \"222\", \"223\", \"231\", \"270\", \"271\", \"371\"},\n",
    "    \"HISP\":{\"250\", \"251\", \"252\"},\n",
    "    \"HIST\":{\"201\", \"202\", \"210\", \"211\", \"212\", \"213\", \"215\", \"216\", \"217\", \"218\", \"219\", \"222\", \"224\", \"225\", \"226\", \"228\", \"229\", \"230\", \"231\", \"232\", \"234\", \"235\", \"241\", \"242\", \"244\", \"247\", \"248\", \"249\", \"250\", \"251\", \"252\", \"253\", \"255\", \"257\", \"261\", \"262\", \"263\", \"270\", \"272\", \"273\", \"276\", \"277\", \"291\", \"301\", \"302\", \"304\", \"310\", \"320\", \"323\", \"335\", \"336\", \"337\", \"341\", \"343\", \"344\", \"345\", \"346\", \"347\", \"348\", \"350\", \"357\", \"361\", \"364\", \"370\", \"403\"},\n",
    "    \"HONS\":{\"170\", \"172\", \"175\", \"281\", \"381\"},\n",
    "    \"HPCP\":{\"199\", \"275\"},\n",
    "    \"IIAS\":{\"201\", \"304\"},\n",
    "    \"ITAL\":{\"361\", \"362\", \"390\", \"452\"},\n",
    "    \"ITST\":{\"390\"},\n",
    "    \"JWST\":{\"201\", \"220\", \"225\", \"230\", \"240\", \"242\", \"245\", \"260\", \"300\", \"305\", \"310\", \"315\", \"320\", \"325\", \"330\", \"335\", \"350\"},\n",
    "    \"LACS\":{\"101\", \"103\", \"104\", \"105\", \"106\"},\n",
    "    \"LATN\":{\"305\", \"321\", \"322\", \"323\", \"371\", \"372\", \"373\", \"390\"},\n",
    "    \"LTAR\":{\"220\", \"221\", \"250\", \"270\", \"350\", \"382\"},\n",
    "    \"LTCH\":{\"210\", \"220\", \"250\"},\n",
    "    \"LTFR\":{\"150\", \"250\"},\n",
    "    \"LTIT\":{\"250\", \"270\", \"350\", \"370\"},\n",
    "    \"LTJP\":{\"250\", \"350\", \"390\"},\n",
    "    \"LTPO\":{\"150\", \"250\", \"270\", \"280\", \"350\"},\n",
    "    \"LTRS\":{\"110\", \"120\", \"170\", \"210\", \"220\", \"250\", \"270\"},\n",
    "    \"LTSP\":{\"250\", \"252\"},\n",
    "    \"MEDH\":{\"200\"},\n",
    "    \"MUSC\":{\"131\", \"222\", \"223\", \"225\", \"227\", \"230\", \"232\", \"233\", \"234\", \"280\"},\n",
    "    \"PHIL\":{\"101\", \"105\", \"110\", \"115\", \"150\", \"155\", \"160\", \"165\", \"170\", \"185\", \"198\", \"201\", \"202\", \"203\", \"205\", \"206\", \"207\", \"208\", \"209\", \"210\", \"220\", \"234\", \"240\", \"245\", \"252\", \"255\", \"260\", \"265\", \"270\", \"275\", \"280\", \"282\", \"285\", \"290\", \"298\"},\n",
    "    \"POLI\":{\"280\"},\n",
    "    \"RELS\":{\"101\", \"103\", \"105\", \"106\", \"115\", \"120\", \"185\", \"201\", \"202\", \"205\", \"210\", \"220\", \"223\", \"225\", \"230\", \"235\", \"240\", \"245\", \"248\", \"250\", \"255\", \"260\", \"270\", \"275\", \"276\", \"280\", \"285\", \"298\"},\n",
    "    \"RUSS\":{\"390\"},\n",
    "    \"RUST\":{\"200\", \"250\", \"300\"},\n",
    "    \"SOST\":{\"175\", \"200\", \"241\"},\n",
    "    \"SPAN\":{\"320\", \"332\", \"333\"},\n",
    "    \"SPOL\":{\"150\"},\n",
    "    \"THTR\":{\"175\", \"176\", \"177\", \"212\", \"214\", \"218\", \"288\", \"310\", \"311\", \"315\", \"316\", \"318\", \"321\", \"387\", \"488\"},\n",
    "    \"URST\":{\"398\"},\n",
    "    \"WGST\":{\"228\", \"229\", \"255\"}\n",
    "}\n",
    "\n",
    "def isHumanClass(c):\n",
    "    if c[\"subject\"] not in hum: return False\n",
    "    return c[\"courseNumber\"] in hum[c[\"subject\"]]"
   ]
  },
  {
   "cell_type": "code",
   "execution_count": 18,
   "id": "1aee0718-ca75-4fa9-b9a2-f331a308ebc3",
   "metadata": {},
   "outputs": [],
   "source": [
    "humanSections = list(filter(isHumanClass,data))"
   ]
  },
  {
   "cell_type": "code",
   "execution_count": 21,
   "id": "e1e884d7-4c56-494b-a20a-f39342c919d3",
   "metadata": {},
   "outputs": [
    {
     "name": "stdout",
     "output_type": "stream",
     "text": [
      "\n",
      "Total sections: 226\n",
      "\tFull Sections:             134\t(59%)\n",
      "\tSections w/ 1 free seat:   25\t(11%)\n",
      "\tRemaining sections:        67\t(29%)\n",
      "\n",
      "On average, how many free seats does each section have?\n",
      "\tMean:\t3.2610619469026547\n",
      "\tMedian:\t0.0\n",
      "\tMode:\t0\n",
      "\n"
     ]
    }
   ],
   "source": [
    "printStats(humanSections)"
   ]
  }
 ],
 "metadata": {
  "kernelspec": {
   "display_name": "Python 3 (ipykernel)",
   "language": "python",
   "name": "python3"
  },
  "language_info": {
   "codemirror_mode": {
    "name": "ipython",
    "version": 3
   },
   "file_extension": ".py",
   "mimetype": "text/x-python",
   "name": "python",
   "nbconvert_exporter": "python",
   "pygments_lexer": "ipython3",
   "version": "3.11.2"
  }
 },
 "nbformat": 4,
 "nbformat_minor": 5
}
