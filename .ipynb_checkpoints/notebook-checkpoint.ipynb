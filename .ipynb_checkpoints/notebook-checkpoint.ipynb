{
 "cells": [
  {
   "cell_type": "code",
   "execution_count": 1,
   "id": "b2b5aff6-e720-41e0-826b-7d893615c8c6",
   "metadata": {},
   "outputs": [],
   "source": [
    "import json\n",
    "f = open('./fall23.json')\n",
    "data = json.load(f)"
   ]
  },
  {
   "cell_type": "code",
   "execution_count": 2,
   "id": "c4263f32-5e47-4d5d-b46b-f742698e26b2",
   "metadata": {},
   "outputs": [],
   "source": [
    "import statistics\n",
    "import textwrap\n",
    "from collections import Counter\n",
    "import matplotlib.pyplot as plt\n",
    "\n",
    "def plotStats(sections):\n",
    "    availibleSeats = [course[\"seatsAvailable\"] for course in sections]\n",
    "    deWaitlisted = [0 if seatCount < 0 else seatCount for seatCount in availibleSeats]\n",
    "    seatCounter = Counter(deWaitlisted)\n",
    "    plt.bar(seatCounter.keys(), seatCounter.values())\n",
    "\n",
    "def printStats(sections):\n",
    "    availibleSeats = [course[\"seatsAvailable\"] for course in sections]\n",
    "    deWaitlisted = [0 if seatCount < 0 else seatCount for seatCount in availibleSeats]\n",
    "    counted = Counter(deWaitlisted)\n",
    "\n",
    "    numSections = len(sections)\n",
    "    numFullSections = counted[0]\n",
    "    numSectionsWithOneSeat = counted[1]\n",
    "    numSectionsWithTwoOrMore = numSections-numFullSections-numSectionsWithOneSeat\n",
    "    \n",
    "    print(textwrap.dedent(f\"\"\"  \n",
    "        Total sections: {len(sections)}\n",
    "        \\tFull Sections:             {numFullSections}\\t({int(numFullSections/numSections*100)}%)\n",
    "        \\tSections w/ 1 free seat:   {numSectionsWithOneSeat}\\t({int(numSectionsWithOneSeat/numSections*100)}%)\n",
    "        \\tRemaining sections:        {numSectionsWithTwoOrMore}\\t({int(numSectionsWithTwoOrMore/numSections*100)}%)\n",
    "    \n",
    "        On average, how many free seats does each section have?\n",
    "        \\tMean:\\t{statistics.mean(deWaitlisted)}\n",
    "        \\tMedian:\\t{statistics.median(deWaitlisted)}\n",
    "        \\tMode:\\t{statistics.mode(deWaitlisted)}\n",
    "    \"\"\"))\n",
    "\n",
    "    "
   ]
  },
  {
   "cell_type": "code",
   "execution_count": 3,
   "id": "4a0301fe-f8e2-425c-9c9c-5aefb25a2593",
   "metadata": {},
   "outputs": [
    {
     "name": "stdout",
     "output_type": "stream",
     "text": [
      "\n",
      "Total sections: 3040\n",
      "\tFull Sections:             1930\t(63%)\n",
      "\tSections w/ 1 free seat:   214\t(7%)\n",
      "\tRemaining sections:        896\t(29%)\n",
      "\n",
      "On average, how many free seats does each section have?\n",
      "\tMean:\t2.5101973684210526\n",
      "\tMedian:\t0.0\n",
      "\tMode:\t0\n",
      "\n"
     ]
    }
   ],
   "source": [
    "printStats(data)"
   ]
  },
  {
   "cell_type": "code",
   "execution_count": 4,
   "id": "32380942-3ff7-4028-843b-d15126b7b02b",
   "metadata": {},
   "outputs": [
    {
     "data": {
      "image/png": "[encoded data removed]",
      "text/plain": [
       "<Figure size 640x480 with 1 Axes>"
      ]
     },
     "metadata": {},
     "output_type": "display_data"
    }
   ],
   "source": [
    "plotStats(data)"
   ]
  },
  {
   "cell_type": "code",
   "execution_count": 5,
   "id": "0c45b1e0-0cc3-48a5-aa5b-4f03eba9d1a3",
   "metadata": {},
   "outputs": [],
   "source": [
    "hum = {\n",
    "    \"AAST\":{\"200\", \"315\"},\n",
    "    \"AFST\":{\"101\", \"202\"},\n",
    "    \"ARST\":{\"100\", \"240\", \"273\", \"340\"},\n",
    "    \"ARTH\":{\"101\", \"102\", \"103\", \"104\", \"105\", \"190\", \"210\", \"212\", \"213\", \"214\", \"215\", \"222\", \"225\", \"231\", \"241\", \"242\", \"243\", \"250\", \"254\", \"260\", \"261\", \"263\", \"265\", \"275\", \"277\", \"278\", \"280\", \"285\", \"287\", \"290\", \"294\"},\n",
    "    \"ARTM\":{\"225\"},\n",
    "    \"ASST\":{\"101\"},\n",
    "    \"CHST\":{\"100\", \"240\", \"270\", \"340\"},\n",
    "    \"CLAS\":{\"101\", \"102\", \"103\", \"104\", \"200\", \"203\", \"215\", \"223\", \"225\", \"226\", \"242\", \"253\", \"254\", \"255\", \"256\", \"270\", \"303\", \"320\", \"322\", \"324\", \"343\", \"345\", \"356\"},\n",
    "    \"DANC\":{\"150\", \"290\", \"330\", \"331\"},\n",
    "    \"DCSP\":{\"350\"},\n",
    "    \"EDFS\":{\"201\"},\n",
    "    \"ENGL\":{\"190\", \"191\", \"192\", \"195\", \"201\", \"202\", \"207\", \"212\", \"216\", \"226\", \"233\", \"234\", \"241\", \"290\", \"300\", \"302\", \"304\", \"306\", \"313\", \"314\", \"315\", \"317\", \"318\", \"319\", \"320\", \"321\", \"323\", \"325\", \"326\", \"327\", \"328\", \"335\", \"336\", \"337\", \"339\", \"340\", \"341\", \"342\", \"343\", \"344\", \"345\", \"346\", \"349\", \"351\", \"352\", \"353\", \"356\", \"357\", \"358\", \"359\", \"360\", \"361\", \"362\", \"363\", \"364\", \"370\", \"371\", \"375\", \"390\"},\n",
    "    \"ENVT\":{\"210\"},\n",
    "    \"FRCS\":{\"101\", \"102\"},\n",
    "    \"FREN\":{\"334\", \"335\", \"336\", \"337\"},\n",
    "    \"GEOG\":{\"219\", \"290\"},\n",
    "    \"GRMN\":{\"325\", \"326\", \"329\", \"365\", \"390\", \"468\", \"472\", \"490\"},\n",
    "    \"GRST\":{\"122\", \"200\", \"221\", \"222\", \"223\", \"231\", \"270\", \"271\", \"371\"},\n",
    "    \"HISP\":{\"250\", \"251\", \"252\"},\n",
    "    \"HIST\":{\"201\", \"202\", \"210\", \"211\", \"212\", \"213\", \"215\", \"216\", \"217\", \"218\", \"219\", \"222\", \"224\", \"225\", \"226\", \"228\", \"229\", \"230\", \"231\", \"232\", \"234\", \"235\", \"241\", \"242\", \"244\", \"247\", \"248\", \"249\", \"250\", \"251\", \"252\", \"253\", \"255\", \"257\", \"261\", \"262\", \"263\", \"270\", \"272\", \"273\", \"276\", \"277\", \"291\", \"301\", \"302\", \"304\", \"310\", \"320\", \"323\", \"335\", \"336\", \"337\", \"341\", \"343\", \"344\", \"345\", \"346\", \"347\", \"348\", \"350\", \"357\", \"361\", \"364\", \"370\", \"403\"},\n",
    "    \"HONS\":{\"170\", \"172\", \"175\", \"281\", \"381\"},\n",
    "    \"HPCP\":{\"199\", \"275\"},\n",
    "    \"IIAS\":{\"201\", \"304\"},\n",
    "    \"ITAL\":{\"361\", \"362\", \"390\", \"452\"},\n",
    "    \"ITST\":{\"390\"},\n",
    "    \"JWST\":{\"201\", \"220\", \"225\", \"230\", \"240\", \"242\", \"245\", \"260\", \"300\", \"305\", \"310\", \"315\", \"320\", \"325\", \"330\", \"335\", \"350\"},\n",
    "    \"LACS\":{\"101\", \"103\", \"104\", \"105\", \"106\"},\n",
    "    \"LATN\":{\"305\", \"321\", \"322\", \"323\", \"371\", \"372\", \"373\", \"390\"},\n",
    "    \"LTAR\":{\"220\", \"221\", \"250\", \"270\", \"350\", \"382\"},\n",
    "    \"LTCH\":{\"210\", \"220\", \"250\"},\n",
    "    \"LTFR\":{\"150\", \"250\"},\n",
    "    \"LTIT\":{\"250\", \"270\", \"350\", \"370\"},\n",
    "    \"LTJP\":{\"250\", \"350\", \"390\"},\n",
    "    \"LTPO\":{\"150\", \"250\", \"270\", \"280\", \"350\"},\n",
    "    \"LTRS\":{\"110\", \"120\", \"170\", \"210\", \"220\", \"250\", \"270\"},\n",
    "    \"LTSP\":{\"250\", \"252\"},\n",
    "    \"MEDH\":{\"200\"},\n",
    "    \"MUSC\":{\"131\", \"222\", \"223\", \"225\", \"227\", \"230\", \"232\", \"233\", \"234\", \"280\"},\n",
    "    \"PHIL\":{\"101\", \"105\", \"110\", \"115\", \"150\", \"155\", \"160\", \"165\", \"170\", \"185\", \"198\", \"201\", \"202\", \"203\", \"205\", \"206\", \"207\", \"208\", \"209\", \"210\", \"220\", \"234\", \"240\", \"245\", \"252\", \"255\", \"260\", \"265\", \"270\", \"275\", \"280\", \"282\", \"285\", \"290\", \"298\"},\n",
    "    \"POLI\":{\"280\"},\n",
    "    \"RELS\":{\"101\", \"103\", \"105\", \"106\", \"115\", \"120\", \"185\", \"201\", \"202\", \"205\", \"210\", \"220\", \"223\", \"225\", \"230\", \"235\", \"240\", \"245\", \"248\", \"250\", \"255\", \"260\", \"270\", \"275\", \"276\", \"280\", \"285\", \"298\"},\n",
    "    \"RUSS\":{\"390\"},\n",
    "    \"RUST\":{\"200\", \"250\", \"300\"},\n",
    "    \"SOST\":{\"175\", \"200\", \"241\"},\n",
    "    \"SPAN\":{\"320\", \"332\", \"333\"},\n",
    "    \"SPOL\":{\"150\"},\n",
    "    \"THTR\":{\"175\", \"176\", \"177\", \"212\", \"214\", \"218\", \"288\", \"310\", \"311\", \"315\", \"316\", \"318\", \"321\", \"387\", \"488\"},\n",
    "    \"URST\":{\"398\"},\n",
    "    \"WGST\":{\"228\", \"229\", \"255\"}\n",
    "}\n",
    "\n",
    "def isHumanClass(c):\n",
    "    if c[\"subject\"] not in hum: return False\n",
    "    return c[\"courseNumber\"] in hum[c[\"subject\"]]"
   ]
  },
  {
   "cell_type": "code",
   "execution_count": 6,
   "id": "1aee0718-ca75-4fa9-b9a2-f331a308ebc3",
   "metadata": {},
   "outputs": [],
   "source": [
    "humanSections = list(filter(isHumanClass,data))"
   ]
  },
  {
   "cell_type": "code",
   "execution_count": 7,
   "id": "e1e884d7-4c56-494b-a20a-f39342c919d3",
   "metadata": {},
   "outputs": [
    {
     "name": "stdout",
     "output_type": "stream",
     "text": [
      "\n",
      "Total sections: 226\n",
      "\tFull Sections:             134\t(59%)\n",
      "\tSections w/ 1 free seat:   25\t(11%)\n",
      "\tRemaining sections:        67\t(29%)\n",
      "\n",
      "On average, how many free seats does each section have?\n",
      "\tMean:\t3.2610619469026547\n",
      "\tMedian:\t0.0\n",
      "\tMode:\t0\n",
      "\n"
     ]
    }
   ],
   "source": [
    "printStats(humanSections)"
   ]
  },
  {
   "cell_type": "code",
   "execution_count": 8,
   "id": "1313de20",
   "metadata": {},
   "outputs": [],
   "source": [
    "def noTimeConflict(class1,class2):\n",
    "    # each class may have multiple meetings \n",
    "    # (eg: tuesdays at 10-12, mondays at 3-4)\n",
    "    #\n",
    "    # this code checks to make sure that no meeting from class1 interferes with \n",
    "    # any meeting from class2, and vice versa\n",
    "    for meetingA in class1[\"meetingsFaculty\"]:\n",
    "        for meetingB in class2[\"meetingsFaculty\"]:\n",
    "            if (\n",
    "                meetingsOnSameDay(meetingA,meetingB) and\n",
    "                meetingsAtSameTime(meetingA,meetingB)\n",
    "            ): return False\n",
    "    return True\n",
    "\n",
    "# Returns true if two meeting periods occour on the same day of the week\n",
    "def meetingsOnSameDay(meeting1,meeting2):\n",
    "    days_of_the_week = [\n",
    "        \"sunday\",\n",
    "        \"monday\",\n",
    "        \"tuesday\",\n",
    "        \"wednesday\",\n",
    "        \"thursday\",\n",
    "        \"friday\",\n",
    "        \"saturday\",\n",
    "    ]\n",
    "\n",
    "    for day in days_of_the_week:\n",
    "        if meeting1[\"meetingTime\"][day] and meeting2[\"meetingTime\"][day]:\n",
    "            return True\n",
    "    return False\n",
    "\n",
    "#Returns true if two meeting peroids occour at the same time of day\n",
    "#(they may be different days of the week though)\n",
    "def meetingsAtSameTime(meeting1,meeting2):\n",
    "    # These json properties store a 3 or 4 digit string corresponding\n",
    "    # with the 24 hour time when a meeting starts or ends\n",
    "    m1_start = int(meeting1[\"meetingTime\"][\"beginTime\"])\n",
    "    m2_start = int(meeting2[\"meetingTime\"][\"beginTime\"])\n",
    "    m1_end = int(meeting1[\"meetingTime\"][\"endTime\"])\n",
    "    m2_end = int(meeting2[\"meetingTime\"][\"endTime\"])\n",
    "\n",
    "    # Case 1: does class1 start but not end before class2 starts?\n",
    "    # if yes, conflict\n",
    "\n",
    "    case1 = m1_start < m2_start and not m1_end < m2_start\n",
    "\n",
    "    # Case 2: does class2 start but not end before class2 starts?\n",
    "    #if yes, conflict\n",
    "\n",
    "    case2 = m2_start < m1_start and not m2_end < m1_start\n",
    "\n",
    "    # Case 3: does either class start or end at the same time?\n",
    "    case3 = m1_start == m2_start or m1_end == m2_end\n",
    "\n",
    "    return case1 or case2 or case3\n"
   ]
  },
  {
   "cell_type": "code",
   "execution_count": 9,
   "id": "ad67cb65",
   "metadata": {},
   "outputs": [],
   "source": [
    "def findSectionByCRN(crn,data):\n",
    "    for section in data:\n",
    "        if section[\"courseReferenceNumber\"] == str(crn):\n",
    "            return section\n",
    "    return None\n",
    "\n",
    "myCRNs = [\n",
    "    10297,\n",
    "    10249,\n",
    "    11942,\n",
    "    10155,\n",
    "]\n",
    "\n",
    "myClasses = [findSectionByCRN(crn,data) for crn in myCRNs]"
   ]
  },
  {
   "cell_type": "code",
   "execution_count": 10,
   "id": "18d2f409-5431-4dfe-9e91-9d0e6892f800",
   "metadata": {},
   "outputs": [],
   "source": [
    "def canAdd(newSection):\n",
    "    for existingSection in myClasses:\n",
    "        if not noTimeConflict(newSection,existingSection):\n",
    "            return False\n",
    "    return True\n",
    "        "
   ]
  },
  {
   "cell_type": "code",
   "execution_count": 11,
   "id": "efb9d6ab-4167-481c-aa47-da2c498f4cfa",
   "metadata": {},
   "outputs": [],
   "source": [
    "noTimeConflictHumanSections = ([section for section in filter(canAdd,humanSections)])"
   ]
  },
  {
   "cell_type": "code",
   "execution_count": 12,
   "id": "67b5aac6-1412-4669-84f8-5405914981c3",
   "metadata": {},
   "outputs": [
    {
     "data": {
      "text/plain": [
       "166"
      ]
     },
     "execution_count": 12,
     "metadata": {},
     "output_type": "execute_result"
    }
   ],
   "source": [
    "len(noTimeConflictHumanSections)"
   ]
  },
  {
   "cell_type": "code",
   "execution_count": 23,
   "id": "5f49acf3-a4cc-4f71-bfc0-88bdd45437aa",
   "metadata": {},
   "outputs": [],
   "source": [
    "def printSection(section):\n",
    "    #stores the text to display and the number of chars the field should take up\n",
    "    cols = (\n",
    "        (8,section['subjectCourse']),\n",
    "        (8,section[\"courseReferenceNumber\"]),\n",
    "        (8,getEnrollment(section)),\n",
    "        (32,getFaculty(section)),\n",
    "        (8,daysOfWeekFixedWidth(section)),\n",
    "        (20,getMeetTime(section)),\n",
    "    )\n",
    "\n",
    "    print(\" \".join(\n",
    "        fixedWidth(*n[::-1])\n",
    "        for n in cols)\n",
    "    )\n",
    "\n",
    "def getEnrollment(section):\n",
    "    try:\n",
    "        return f\"{section['enrollment']}/{section['maximumEnrollment']}\"\n",
    "    except:\n",
    "        return \"unknown\"\n",
    "\n",
    "def getMeetTime(section):\n",
    "    try:\n",
    "        meetTime = section['meetingsFaculty'][0]['meetingTime']\n",
    "        return (\n",
    "            f'{milToAMPM(meetTime[\"beginTime\"])}'\n",
    "            ' to '\n",
    "            f'{milToAMPM(meetTime[\"endTime\"])}'\n",
    "        )\n",
    "    except Exception:\n",
    "        return \"\"\n",
    "\n",
    "def getFaculty(section):\n",
    "    try: return section[\"faculty\"][0][\"displayName\"]\n",
    "    except Exception: return \"???\"\n",
    "\n",
    "def milToAMPM(time):\n",
    "    try:\n",
    "        minutes = time[-2:]\n",
    "        hours = time[:-2]\n",
    "    \n",
    "        hoursInt = int(hours)\n",
    "        if hoursInt == 0:\n",
    "            return f\"12:{minutes} AM\"\n",
    "        elif hoursInt > 12:\n",
    "            return f\"{hoursInt-12}:{minutes} PM\"\n",
    "        else:\n",
    "            return f\"{hours}:{minutes} AM\"\n",
    "    except Exception:\n",
    "        return \"???\"\n",
    "\n",
    "def daysOfWeekFixedWidth(section):\n",
    "    \n",
    "\n",
    "    try:\n",
    "        shortstr = \"[\"\n",
    "        weekdays = (\n",
    "            (\"M\",\"monday\"),\n",
    "            (\"T\",\"tuesday\"),\n",
    "            (\"W\",\"wednesday\"),\n",
    "            (\"R\",\"thursday\"),\n",
    "            (\"F\",\"friday\"),\n",
    "        )\n",
    "            \n",
    "        for (abbr,day) in weekdays:\n",
    "            if section[\"meetingsFaculty\"][0][\"meetingTime\"][day]:\n",
    "                shortstr+=abbr\n",
    "            else:\n",
    "                shortstr+= \"-\"\n",
    "        return shortstr+\"]\"\n",
    "    except Exception:\n",
    "        return \"[?????]\"\n",
    "\n",
    "def fixedWidth(string,n):\n",
    "    if len(string) > n:\n",
    "        return string[0:n-1]+\"-\"\n",
    "    else:\n",
    "        return string+(\" \"*(n-len(string)))"
   ]
  },
  {
   "cell_type": "code",
   "execution_count": 27,
   "id": "0e4e6b9d-3dbe-4059-a7f6-1f4c6223cd11",
   "metadata": {},
   "outputs": [
    {
     "name": "stdout",
     "output_type": "stream",
     "text": [
      "SPAN201C 10297    4/10     Delgado Diaz, Daniel             [--W--]  2:00 PM to 2:50 PM  \n",
      "SPAN201  10249    14/0     Hanahan, Devon                   [M-W-F]  11:00 AM to 11:50 AM\n",
      "FINC120  11942    10/40    Davis, James                     [M-W--]  7:00 PM to 9:45 PM  \n",
      "CSCI362  10155    25/22    Baza, Mohamed                    [-T-R-]  2:10 PM to 3:25 PM  \n"
     ]
    }
   ],
   "source": [
    "for section in myClasses: printSection(section)"
   ]
  },
  {
   "cell_type": "code",
   "execution_count": 26,
   "id": "c93fe830-6d8c-439d-9d77-f2b37ff05180",
   "metadata": {},
   "outputs": [
    {
     "name": "stdout",
     "output_type": "stream",
     "text": [
      "THTR318  10508    21/35    Wentz, Jonathan                  [-T-R-]  09:25 AM to 10:40 AM\n",
      "THTR321  10509    8/30     Turner, Laura                    [-T-R-]  12:15 AM to 1:30 PM \n",
      "SPAN320  10756    4/20     Garcia, Christina                [M-W-F]  3:00 PM to 3:50 PM  \n",
      "AFST101  10789    20/22    Day, Christopher                 [-T-R-]  10:50 AM to 12:05 AM\n",
      "SPAN333  10812    15/20    Chavarry, Jose                   [-T-R-]  09:25 AM to 10:40 AM\n",
      "AAST200  10839    20/22    Martin, Kameelah                 [-T-R-]  09:25 AM to 10:40 AM\n",
      "MUSC131  10874    8/35     Heywood, David                   [-----]  ??? to ???          \n",
      "MUSC131  10954    6/35     Ak, Nisan                        [-----]  ??? to ???          \n",
      "MUSC131  11096    16/35    Milewski, Wojciech               [-----]  ??? to ???          \n",
      "MUSC233  11109    28/35    O&#39;Brien, Michael             [-----]  ??? to ???          \n",
      "MUSC131  11284    1/35     Milewski, Wojciech               [-----]  ??? to ???          \n",
      "JWST300  11445    19/27    Cappell, Ezra                    [--W--]  4:00 PM to 6:45 PM  \n",
      "MUSC222  11465    14/35    Michel, Nathan                   [-----]  ??? to ???          \n",
      "HIST270  11598    19/30    Piccione, Peter                  [-T-R-]  12:15 AM to 1:30 PM \n",
      "HIST350  11617    2/5      Ayalon, Yaron                    [-T-R-]  12:15 AM to 1:30 PM \n",
      "FREN335  11626    17/20    Hargrave, Katharine              [M-W--]  3:25 PM to 4:40 PM  \n",
      "THTR176  11688    29/35    ???                              [-----]  ??? to ???          \n",
      "HIST261  11764    5/10     Ayalon, Yaron                    [-T-R-]  09:25 AM to 10:40 AM\n",
      "HIST241  11780    27/30    Jones, Elisa                     [-T-R-]  09:25 AM to 10:40 AM\n",
      "THTR175  11807    28/35    Gee-Schmidtke, Genese            [-T-R-]  09:25 AM to 10:40 AM\n",
      "MUSC227  11918    31/35    Sanchez, Kayleen                 [-----]  ??? to ???          \n",
      "HISP252  11984    14/25    Garcia, Christina                [M-W-F]  12:00 AM to 12:50 AM\n",
      "MUSC131  12090    13/35    Heywood, David                   [-----]  ??? to ???          \n",
      "JWST220  12095    18/22    Ayalon, Yaron                    [-T-R-]  09:25 AM to 10:40 AM\n",
      "THTR318  12516    28/35    Baker, Caroline                  [-T-R-]  10:50 AM to 12:05 AM\n",
      "MUSC131  12936    3/35     Heywood, David                   [-----]  ??? to ???          \n",
      "ENGL370  13145    12/26    Carens, Timothy                  [-T-R-]  09:25 AM to 10:40 AM\n",
      "ENGL360  13149    9/15     Eichelberger, Julia              [-T-R-]  10:50 AM to 12:05 AM\n",
      "JWST300  13169    4/15     Ayalon, Yaron                    [-T-R-]  12:15 AM to 1:30 PM \n",
      "RELS120  13172    21/34    Huddlestun, John                 [M-W--]  4:00 PM to 5:15 PM  \n",
      "HIST225  13231    22/30    Ingram, Tammy                    [-T-R-]  10:50 AM to 12:05 AM\n",
      "HIST251  13232    24/30    Gigova, Irina                    [M-W-F]  1:00 PM to 1:50 PM  \n",
      "HIST361  13237    14/30    Gordanier, Amy                   [M-W-F]  10:00 AM to 10:50 AM\n",
      "THTR387  13313    7/25     Kattwinkel, Susan                [-T-R-]  12:15 AM to 1:30 PM \n",
      "GRMN325  13477    16/18    Della Lana, Stephen              [-T-R-]  10:50 AM to 12:05 AM\n",
      "LATN390  13504    10/12    Sterrett-Krause, Allison         [M-W-F]  09:00 AM to 09:50 AM\n",
      "LATN373  13505    9/12     Zeiner-Carmichael, Noelle        [-T-R-]  09:25 AM to 10:40 AM\n",
      "LTIT350  13514    9/20     ???                              [-T-R-]  12:15 AM to 1:30 PM \n",
      "ARTM225  13554    37/40    Ferrell, Rebecca                 [M----]  4:00 PM to 6:45 PM  \n",
      "MUSC222  13598    18/35    Sauberlich, Kim                  [M-W-F]  12:00 AM to 12:50 AM\n",
      "MUSC230  13600    13/35    Harlow, Julia                    [M-W-F]  10:00 AM to 10:50 AM\n",
      "AAST200  13666    9/30     Owens, Michael                   [-----]  ??? to ???          \n",
      "MUSC131  13789    36/50    Sauberlich, Kim                  [M-W-F]  1:00 PM to 1:50 PM  \n"
     ]
    }
   ],
   "source": [
    "for s in noTimeConflictHumanSections: \n",
    "    if s[\"seatsAvailable\"] > 1:\n",
    "        printSection(s)"
   ]
  },
  {
   "cell_type": "code",
   "execution_count": 25,
   "id": "8b6d523c-2cbb-4944-a4b4-9b933798dd5d",
   "metadata": {},
   "outputs": [
    {
     "name": "stdout",
     "output_type": "stream",
     "text": [
      "Modern History Open Sections\n",
      "HIST118  13547    21/22    Covert, Lisa                     [-T-R-]  09:25 AM to 10:40 AM\n",
      "Pre-Modern History Open Sections\n",
      "HIST115  11440    32/33    Schaffer, Benjamin               [-T-R-]  5:30 PM to 6:45 PM  \n",
      "HIST115  12467    1/5      Martin, Geoffrey                 [M-W-F]  08:00 AM to 08:50 AM\n",
      "HIST115  12570    2/5      Martin, Geoffrey                 [M-W-F]  12:00 AM to 12:50 AM\n",
      "HIST115  13811    15/16    Martin, Geoffrey                 [M-W-F]  09:00 AM to 09:50 AM\n",
      "HIST115  13812    15/16    Martin, Geoffrey                 [M-W-F]  10:00 AM to 10:50 AM\n",
      "HIST115  13831    4/5      ???                              [M-W-F]  10:00 AM to 10:50 AM\n",
      "HIST115  13832    4/5      ???                              [M-W-F]  12:00 AM to 12:50 AM\n"
     ]
    }
   ],
   "source": [
    "premodern = [\n",
    "       \t\"CLAS105\",\n",
    "       \t\"HIST101\",\n",
    "       \t\"HIST103\",\n",
    "       \t\"HIST115\",\n",
    "       \t\"HIST117\",\n",
    "]\n",
    "\n",
    "modern = [\n",
    "       \t\"HIST102\",\n",
    "       \t\"HIST104\",\n",
    "       \t\"HIST116\",\n",
    "       \t\"HIST118\",\n",
    "]\n",
    "\n",
    "premodernCandidates = []\n",
    "modernCandidates = []\n",
    "\n",
    "notFullLambda=lambda x: x[\"seatsAvailable\"] > 0\n",
    "notFullClasses = filter(notFullLambda,data)\n",
    "\n",
    "for section in notFullClasses:\n",
    "    if section[\"subjectCourse\"] in premodern:\n",
    "        premodernCandidates.append(section)\n",
    "    elif section[\"subjectCourse\"] in modern:\n",
    "        modernCandidates.append(section)\n",
    "print(\"Modern History Open Sections\")\n",
    "for section in modernCandidates:\n",
    "    printSection(section)\n",
    "print(\"Pre-Modern History Open Sections\")\n",
    "for section in premodernCandidates:\n",
    "    printSection(section)"
   ]
  }
 ],
 "metadata": {
  "kernelspec": {
   "display_name": "Python 3 (ipykernel)",
   "language": "python",
   "name": "python3"
  },
  "language_info": {
   "codemirror_mode": {
    "name": "ipython",
    "version": 3
   },
   "file_extension": ".py",
   "mimetype": "text/x-python",
   "name": "python",
   "nbconvert_exporter": "python",
   "pygments_lexer": "ipython3",
   "version": "3.11.2"
  }
 },
 "nbformat": 4,
 "nbformat_minor": 5
}
